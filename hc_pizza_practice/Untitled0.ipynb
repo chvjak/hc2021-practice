{
  "nbformat": 4,
  "nbformat_minor": 0,
  "metadata": {
    "colab": {
      "name": "Untitled0.ipynb",
      "provenance": [],
      "collapsed_sections": [],
      "toc_visible": true
    },
    "kernelspec": {
      "name": "python3",
      "display_name": "Python 3"
    }
  },
  "cells": [
    {
      "cell_type": "code",
      "metadata": {
        "id": "yyOkLOM8HHSe"
      },
      "source": [
        "input_file = \"a_example\"\r\n",
        "#input_file = \"b_little_bit_of_everything.in\"\r\n",
        "#input_file = \"c_many_ingredients.in\"\r\n",
        "#input_file = \"d_many_pizzas.in\"\r\n",
        "#input_file = \"e_many_teams.in\"\r\n",
        "output_file = input_file + \".out\""
      ],
      "execution_count": 53,
      "outputs": []
    },
    {
      "cell_type": "code",
      "metadata": {
        "id": "Him-a2jOrOP6",
        "colab": {
          "base_uri": "https://localhost:8080/",
          "height": 231
        },
        "outputId": "b0520c57-a82c-4d47-ef0a-8af4f45ec55e"
      },
      "source": [
        "#####################################################################\r\n",
        "# reader\r\n",
        "\r\n",
        "'''\r\n",
        "5 1 2 1\r\n",
        "3 onion pepper olive\r\n",
        "3 mushroom tomato basil\r\n",
        "3 chicken mushroom pepper\r\n",
        "3 tomato mushroom basil\r\n",
        "2 chicken basil\r\n",
        "\r\n",
        "5 pizzas, 1 team of two, 2 teams of three, and 1 team of four \r\n",
        "Pizza 0 has the given 3 ingredients\r\n",
        "Pizza 1 has the given 3 ingredients\r\n",
        "Pizza 2 has the given 3 ingredients\r\n",
        "Pizza 3 has the given 3 ingredients\r\n",
        "Pizza 4 has the given 2 ingredients\r\n",
        "'''\r\n",
        "f = open(input_file)\r\n",
        "lines = f.readlines()\r\n",
        "\r\n",
        "l1 = lines[0].strip().split(\" \")\r\n",
        "pizza_count = l1[0]\r\n",
        "\r\n",
        "# indexes are team sizes - 2\r\n",
        "# values are team counts\r\n",
        "team_head_count = [int(x.strip()) for x in l1[1:]]\r\n",
        "\r\n",
        "pizzas = []\r\n",
        "for p in lines[1:]:\r\n",
        "  pizzas.append(p.strip().split(\" \")[1:])\r\n",
        "\r\n",
        "# reader\r\n",
        "#####################################################################"
      ],
      "execution_count": 55,
      "outputs": [
        {
          "output_type": "error",
          "ename": "FileNotFoundError",
          "evalue": "ignored",
          "traceback": [
            "\u001b[0;31m---------------------------------------------------------------------------\u001b[0m",
            "\u001b[0;31mFileNotFoundError\u001b[0m                         Traceback (most recent call last)",
            "\u001b[0;32m<ipython-input-55-d454de6bedda>\u001b[0m in \u001b[0;36m<module>\u001b[0;34m()\u001b[0m\n\u001b[1;32m     17\u001b[0m \u001b[0mPizza\u001b[0m \u001b[0;36m4\u001b[0m \u001b[0mhas\u001b[0m \u001b[0mthe\u001b[0m \u001b[0mgiven\u001b[0m \u001b[0;36m2\u001b[0m \u001b[0mingredients\u001b[0m\u001b[0;34m\u001b[0m\u001b[0;34m\u001b[0m\u001b[0m\n\u001b[1;32m     18\u001b[0m '''\n\u001b[0;32m---> 19\u001b[0;31m \u001b[0mf\u001b[0m \u001b[0;34m=\u001b[0m \u001b[0mopen\u001b[0m\u001b[0;34m(\u001b[0m\u001b[0minput_file\u001b[0m\u001b[0;34m)\u001b[0m\u001b[0;34m\u001b[0m\u001b[0;34m\u001b[0m\u001b[0m\n\u001b[0m\u001b[1;32m     20\u001b[0m \u001b[0mlines\u001b[0m \u001b[0;34m=\u001b[0m \u001b[0mf\u001b[0m\u001b[0;34m.\u001b[0m\u001b[0mreadlines\u001b[0m\u001b[0;34m(\u001b[0m\u001b[0;34m)\u001b[0m\u001b[0;34m\u001b[0m\u001b[0;34m\u001b[0m\u001b[0m\n\u001b[1;32m     21\u001b[0m \u001b[0;34m\u001b[0m\u001b[0m\n",
            "\u001b[0;31mFileNotFoundError\u001b[0m: [Errno 2] No such file or directory: 'a_example'"
          ]
        }
      ]
    },
    {
      "cell_type": "code",
      "metadata": {
        "id": "2g8CjUV1FxD9"
      },
      "source": [
        "#from google.colab import drive\n",
        "#drive.mount('/content/drive')"
      ],
      "execution_count": null,
      "outputs": []
    },
    {
      "cell_type": "code",
      "metadata": {
        "id": "NhD27_z72jQU"
      },
      "source": [
        "def get_pizzas(pizzas1, head_count):\r\n",
        "  if head_count <= len(pizzas1):\r\n",
        "    result = [head_count] + pizzas1[:head_count]\r\n",
        "    del pizzas1[:head_count]\r\n",
        "  else:\r\n",
        "    result = []\r\n",
        "\r\n",
        "  return result\r\n",
        "\r\n",
        "pizzas_by_teams = []\r\n",
        "pizza_indexes = list(range(len(pizzas)))\r\n",
        "\r\n",
        "for team_cluster_index in reversed(range(len(team_head_count))):\r\n",
        "  for team_index in range(team_head_count[team_cluster_index]) :\r\n",
        "    head_count = team_cluster_index + 2\r\n",
        "    pizzas_for_team = get_pizzas(pizza_indexes, head_count)\r\n",
        "    if len(pizzas_for_team):\r\n",
        "        pizzas_by_teams.append(pizzas_for_team) \r\n",
        "\r\n",
        "    if not len(pizzas) :\r\n",
        "        break\r\n",
        "\r\n",
        "  if not len(pizzas) :\r\n",
        "      break\r\n",
        "\r\n",
        "\r\n"
      ],
      "execution_count": 51,
      "outputs": []
    },
    {
      "cell_type": "code",
      "metadata": {
        "id": "S-lNqvqhvQJE"
      },
      "source": [
        "#####################################################################\r\n",
        "# writer\r\n",
        "\r\n",
        "'''\r\n",
        "2       #Pizzas are delivered to 2 teams\r\n",
        "2 1 4   #A 2-person team will receive Pizza 1 and Pizza 4\r\n",
        "3 0 2 3 #A 3-person team will receive Pizza 0, Pizza 2 and Pizza 3\r\n",
        "'''\r\n",
        "\r\n",
        "f1 = open(\"/content/pizza/a_example.out\", \"w\")\r\n",
        "\r\n",
        "f1.write(\"{0}\\n\".format(len(pizzas_by_teams)))\r\n",
        "\r\n",
        "for pt in pizzas_by_teams:\r\n",
        "  f1.write(\"{0}\\n\".format(\" \".join([str(x) for x in pt])))\r\n",
        "\r\n",
        "f1.close()\r\n",
        "# writer\r\n",
        "#####################################################################\r\n"
      ],
      "execution_count": 54,
      "outputs": []
    }
  ]
}